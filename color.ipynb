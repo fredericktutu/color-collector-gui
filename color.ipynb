{
 "cells": [
  {
   "cell_type": "code",
   "execution_count": 1,
   "metadata": {},
   "outputs": [],
   "source": [
    "import os\n",
    "from time import sleep\n",
    "from tkinter import *\n",
    "from PIL import ImageGrab, Image\n",
    "import tkinter.messagebox\n",
    "\n",
    "root_width =  250\n",
    "root_height = 400\n",
    "geo_str = str(root_width) + \"x\" + str(root_height)"
   ]
  },
  {
   "cell_type": "code",
   "execution_count": 2,
   "metadata": {},
   "outputs": [],
   "source": [
    "import csv\n",
    "#加载数据\n",
    "csvPath = \"color2.csv\"\n",
    "def toRGBStr(R,G,B):\n",
    "    return \"#\" + toHs2(R) +  toHs2(G) + toHs2(B)\n",
    "def toHs2(n):\n",
    "    str = hex(n)[2:]\n",
    "    if len(str)== 1:\n",
    "        str = \"0\"+ str\n",
    "    return str\n",
    "class Color:\n",
    "    def __init__(self, rgb, chinese):\n",
    "        self.rgb = rgb\n",
    "        self.chn = chinese\n",
    "        self.R, self.G, self.B = int(rgb[1:3],16), int(rgb[3:5],16), int(rgb[5:7],16)\n",
    "    def __repr__(self):\n",
    "        return \"R:\" + str(self.R) + \" G:\"+ str(self.G) + \" B\" + str(self.B)\n",
    "    def distance(self, other):\n",
    "        return (other.R - self.R)**2 + (other.G - self.G)** 2 + (other.B - self.B)**2\n",
    "    def counter(self):\n",
    "        return toRGBStr(255-self.R,255-self.G,255-self.B)\n",
    "    def compare(self):\n",
    "        return (toRGBStr(255-self.R,255-self.G,self.B),toRGBStr(self.R,255-self.G,255-self.B),toRGBStr(255-self.R,self.G,255-self.B))\n",
    "colorTab = []\n",
    "with open(csvPath,encoding = \"utf-8\")as f:\n",
    "    f_csv = csv.reader(f)\n",
    "    next(f_csv)\n",
    "    colorTab = [Color(row[0], row[1]) for row in f_csv]\n",
    "    for row in f_csv:\n",
    "        colorTab.append(Color(row[0],row[1]))\n",
    "    #print(colorTab[0:5])\n"
   ]
  },
  {
   "cell_type": "code",
   "execution_count": 3,
   "metadata": {},
   "outputs": [
    {
     "data": {
      "text/plain": [
       "''"
      ]
     },
     "execution_count": 3,
     "metadata": {},
     "output_type": "execute_result"
    }
   ],
   "source": [
    "class CaptureWindow:\n",
    "    def __init__(self, picPath):\n",
    "        self.X = IntVar(value=0)\n",
    "        self.Y = IntVar(value=0)\n",
    "         # 获取屏幕尺寸\n",
    "        screenWidth = root.winfo_screenwidth()\n",
    "        screenHeight = root.winfo_screenheight()\n",
    "\n",
    "         # 创建顶级组件容器，与屏幕尺寸一样大\n",
    "        self.top = Toplevel(root, width=screenWidth, height=screenHeight)\n",
    "\n",
    "         # 不显示最大化、最小化按钮\n",
    "        #self.top.overrideredirect(True)\n",
    "        self.image = PhotoImage(file=picPath)\n",
    "         # 创建画布\n",
    "        self.canvas = Canvas(self.top,bg='white', width=screenWidth, height=screenHeight)\n",
    "         # 显示全屏截图，在全屏截图上进行区域截图\n",
    "        self.canvas.create_image(screenWidth//2, screenHeight//2, image=self.image)\n",
    "        def onLeftButtonUp(event):\n",
    "            im = Image.open(picPath)\n",
    "            color = im.getpixel((event.x, event.y))[:3]\n",
    "            color = map(lambda x:hex(x)[2:], color)\n",
    "            color = map(lambda x:x if len(x)==2 else '0'+x, color)\n",
    "            color = '#' + ''.join(color)\n",
    "            colorObj = Color(color, \"anything\")\n",
    "            closest = None\n",
    "            minDis = 3 * 255 ** 2\n",
    "            for c in colorTab:\n",
    "                curDis = colorObj.distance(c)\n",
    "                if  curDis < minDis:\n",
    "                    closest = c\n",
    "                    minDis = curDis\n",
    "            #print(\"minDis\" + str(minDis))\n",
    "            yourRGB.set(\"你选取颜色RGB是\" + color)\n",
    "            yourColorCanvas[\"bg\"] = color\n",
    "            \n",
    "            closeRGB.set(\"最相近的颜色是\" + closest.chn)\n",
    "            closeColorCanvas[\"bg\"] = closest.rgb\n",
    "            \n",
    "            counterRGB.set(\"  补色搭配：\" + colorObj.counter())\n",
    "            l1[\"fg\"] = colorObj.counter()\n",
    "            c1, c2, c3 = colorObj.compare()\n",
    "            compareRGB1.set(\"对比色搭配1：\" + c1)\n",
    "            compareRGB2.set(\"对比色搭配2：\" + c2)\n",
    "            compareRGB3.set(\"对比色搭配3：\" + c3)\n",
    "            l2[\"fg\"] = c1\n",
    "            l3[\"fg\"] = c2\n",
    "            l4[\"fg\"] = c3\n",
    "            \n",
    "            self.top.destroy()\n",
    "            \n",
    "        self.canvas.bind('<ButtonRelease-1>', onLeftButtonUp)\n",
    "        self.canvas.pack(fill=BOTH, expand=YES)\n",
    "\n",
    "\n",
    "root = Tk()\n",
    "root.title(\"颜色鉴定工具\")\n",
    "root.geometry(geo_str)\n",
    "\n"
   ]
  },
  {
   "cell_type": "code",
   "execution_count": 4,
   "metadata": {},
   "outputs": [],
   "source": [
    "mainFrame = Frame(root)\n",
    "mainFrame.pack()\n",
    "leftFrame = Frame(mainFrame,height = root_height, width = root_width // 2 - 1)\n",
    "rightFrame = Frame(mainFrame, height = root_height , width = root_width // 2 - 1)\n",
    "leftFrame.pack(side = \"left\", padx = 10)\n",
    "rightFrame.pack(side = \"right\",padx = 10)\n"
   ]
  },
  {
   "cell_type": "code",
   "execution_count": 5,
   "metadata": {},
   "outputs": [],
   "source": [
    "#左边部分\n",
    "\n",
    "def getScreenColorHandler():\n",
    "     # 最小化主窗口\n",
    "    root.state('icon')\n",
    "    sleep(0.2)\n",
    "    filename = 'temp.png'\n",
    "    im = ImageGrab.grab()\n",
    "    im.save(filename)\n",
    "    im.close()\n",
    "    # 显示全屏幕截图\n",
    "    w = CaptureWindow(filename)\n",
    "    bt2.wait_window(w.top)\n",
    "    # recover the main stage\n",
    "    root.state('normal')\n",
    "    os.remove(filename)\n",
    "\n",
    "bt2 = Button(leftFrame, text = \"屏幕取色\", command = getScreenColorHandler)\n",
    "\n",
    "bt2.pack()"
   ]
  },
  {
   "cell_type": "code",
   "execution_count": 6,
   "metadata": {},
   "outputs": [
    {
     "data": {
      "text/plain": [
       "(None, None, None, None)"
      ]
     },
     "execution_count": 6,
     "metadata": {},
     "output_type": "execute_result"
    }
   ],
   "source": [
    "#右边部分\n",
    "yourRGB = StringVar()\n",
    "closeRGB = StringVar()\n",
    "counterRGB = StringVar()\n",
    "compareRGB1 = StringVar()\n",
    "compareRGB2 = StringVar()\n",
    "compareRGB3 = StringVar()\n",
    "yourRGB.set(\"你选取颜色RGB是\")\n",
    "closeRGB.set(\"最相近的颜色是\")\n",
    "\n",
    "\n",
    "yourColorCanvas = Canvas(rightFrame, bg= \"white\", height = root_height* 0.3, width= root_height*0.3)\n",
    "closeColorCanvas = Canvas(rightFrame, bg='white', height = root_height* 0.3, width= root_height*0.3)\n",
    "\n",
    "Label(rightFrame, textvariable = yourRGB,fg = \"black\").pack(anchor = 'w')\n",
    "yourColorCanvas.pack()\n",
    "Label(rightFrame, textvariable = closeRGB,fg = \"black\").pack(anchor = 'w')\n",
    "closeColorCanvas.pack()\n",
    "\n",
    "\n",
    "l1 = Label(rightFrame, textvariable = counterRGB,fg = \"black\")\n",
    "l2 = Label(rightFrame, textvariable = compareRGB1,fg = \"black\")\n",
    "l3 = Label(rightFrame, textvariable = compareRGB2,fg = \"black\")\n",
    "l4 = Label(rightFrame, textvariable = compareRGB2,fg = \"black\")\n",
    "l1.pack(),l2.pack(),l3.pack(),l4.pack()"
   ]
  },
  {
   "cell_type": "code",
   "execution_count": 7,
   "metadata": {},
   "outputs": [],
   "source": [
    "root.mainloop()"
   ]
  },
  {
   "cell_type": "code",
   "execution_count": null,
   "metadata": {},
   "outputs": [],
   "source": []
  },
  {
   "cell_type": "code",
   "execution_count": null,
   "metadata": {},
   "outputs": [],
   "source": []
  },
  {
   "cell_type": "code",
   "execution_count": null,
   "metadata": {},
   "outputs": [],
   "source": []
  }
 ],
 "metadata": {
  "kernelspec": {
   "display_name": "Python 3",
   "language": "python",
   "name": "python3"
  },
  "language_info": {
   "codemirror_mode": {
    "name": "ipython",
    "version": 3
   },
   "file_extension": ".py",
   "mimetype": "text/x-python",
   "name": "python",
   "nbconvert_exporter": "python",
   "pygments_lexer": "ipython3",
   "version": "3.7.3"
  }
 },
 "nbformat": 4,
 "nbformat_minor": 2
}
